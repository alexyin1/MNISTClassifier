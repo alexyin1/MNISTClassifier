{
 "cells": [
  {
   "cell_type": "code",
   "execution_count": 23,
   "metadata": {},
   "outputs": [],
   "source": [
    "import numpy as np\n",
    "import matplotlib.pyplot as plt\n",
    "import matplotlib.cm as cm\n",
    "import numpy as np\n",
    "import tensorflow as tf\n",
    "import random\n",
    "from tensorflow.keras import layers\n",
    "from tensorflow.keras.models import load_model\n",
    "from tensorflow.keras.models import Model\n",
    "from tensorflow.keras.utils import to_categorical"
   ]
  },
  {
   "cell_type": "code",
   "execution_count": 24,
   "metadata": {},
   "outputs": [],
   "source": [
    "def displayDigit(index, x_test):\n",
    "\tplt.imshow(x_test[index], cmap=cm.gray)"
   ]
  },
  {
   "cell_type": "code",
   "execution_count": 26,
   "metadata": {},
   "outputs": [
    {
     "name": "stdout",
     "output_type": "stream",
     "text": [
      "_________________________________________________________________\n",
      "Layer (type)                 Output Shape              Param #   \n",
      "=================================================================\n",
      "dense (Dense)                (None, 40)                31400     \n",
      "_________________________________________________________________\n",
      "dense_1 (Dense)              (None, 10)                410       \n",
      "=================================================================\n",
      "Total params: 31,810\n",
      "Trainable params: 31,810\n",
      "Non-trainable params: 0\n",
      "_________________________________________________________________\n",
      "9999.0\n",
      "(9999, 28, 28)\n",
      "(9999, 784)\n"
     ]
    }
   ],
   "source": [
    "\n",
    "model = load_model('my_model.h5')\n",
    "model.summary()\n",
    "\n",
    "testpxdata = np.loadtxt('mnist_test.csv', delimiter=',', skiprows=1)\n",
    "# testlabels = np.zeros((testpxdata[:,0].size, 10))\n",
    "# testlabels[np.arange(9), testpxdata[:,0].reshape(testpxdata[:,0].size, 1).astype(int)] = 1\n",
    "y_test = to_categorical(testpxdata[:,0], num_classes = 10)\n",
    "n_examples = y_test.size/10\n",
    "px_data = np.array(testpxdata[:, 1:785]).reshape(-1, 28, 28)\n",
    "print(px_data.shape)\n",
    "x_test = np.array(testpxdata[:, 1:785]).reshape(-1, 784)/255;\n",
    "print(x_test.shape)"
   ]
  },
  {
   "cell_type": "code",
   "execution_count": 19,
   "metadata": {},
   "outputs": [
    {
     "name": "stdout",
     "output_type": "stream",
     "text": [
      "Test loss: 0.10791359173997928\n",
      "Test accuracy: 0.9673967396739674\n"
     ]
    }
   ],
   "source": [
    "perfmetrics = model.evaluate(x=x_test, y=y_test, verbose=0)\n",
    "print('Test loss:', perfmetrics[0])\n",
    "print('Test accuracy:', perfmetrics[1])"
   ]
  },
  {
   "cell_type": "code",
   "execution_count": 20,
   "metadata": {},
   "outputs": [],
   "source": [
    "pred = model.predict(x_test)\n"
   ]
  },
  {
   "cell_type": "code",
   "execution_count": 29,
   "metadata": {},
   "outputs": [
    {
     "name": "stdout",
     "output_type": "stream",
     "text": [
      "[1.4338392e-06 9.3845869e-12 8.7311535e-05 8.4115811e-07 1.6035241e-12\n",
      " 9.3644092e-10 1.0056307e-08 2.8252932e-08 5.9843401e-08 1.0390213e-10]\n",
      "[0. 0. 1. 0. 0. 0. 0. 0. 0. 0.]\n"
     ]
    },
    {
     "data": {
      "image/png": "[encoded data removed]",
      "text/plain": [
       "<matplotlib.figure.Figure at 0x22a108c9198>"
      ]
     },
     "metadata": {},
     "output_type": "display_data"
    }
   ],
   "source": [
    "index = random.randrange(n_examples)\n",
    "print(pred[index])\n",
    "print(y_test[index])\n",
    "displayDigit(index, px_data)"
   ]
  },
  {
   "cell_type": "code",
   "execution_count": null,
   "metadata": {},
   "outputs": [],
   "source": []
  },
  {
   "cell_type": "code",
   "execution_count": null,
   "metadata": {},
   "outputs": [],
   "source": []
  }
 ],
 "metadata": {
  "kernelspec": {
   "display_name": "Python 3",
   "language": "python",
   "name": "python3"
  },
  "language_info": {
   "codemirror_mode": {
    "name": "ipython",
    "version": 3
   },
   "file_extension": ".py",
   "mimetype": "text/x-python",
   "name": "python",
   "nbconvert_exporter": "python",
   "pygments_lexer": "ipython3",
   "version": "3.6.4"
  }
 },
 "nbformat": 4,
 "nbformat_minor": 2
}
